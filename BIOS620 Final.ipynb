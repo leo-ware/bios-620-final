{
 "cells": [
  {
   "cell_type": "code",
   "execution_count": 1,
   "metadata": {
    "vscode": {
     "languageId": "r"
    }
   },
   "outputs": [
    {
     "name": "stderr",
     "output_type": "stream",
     "text": [
      "── \u001b[1mAttaching core tidyverse packages\u001b[22m ──────────────────────── tidyverse 2.0.0 ──\n",
      "\u001b[32m✔\u001b[39m \u001b[34mdplyr    \u001b[39m 1.1.4     \u001b[32m✔\u001b[39m \u001b[34mreadr    \u001b[39m 2.1.5\n",
      "\u001b[32m✔\u001b[39m \u001b[34mforcats  \u001b[39m 1.0.0     \u001b[32m✔\u001b[39m \u001b[34mstringr  \u001b[39m 1.5.1\n",
      "\u001b[32m✔\u001b[39m \u001b[34mggplot2  \u001b[39m 3.5.1     \u001b[32m✔\u001b[39m \u001b[34mtibble   \u001b[39m 3.2.1\n",
      "\u001b[32m✔\u001b[39m \u001b[34mlubridate\u001b[39m 1.9.3     \u001b[32m✔\u001b[39m \u001b[34mtidyr    \u001b[39m 1.3.1\n",
      "\u001b[32m✔\u001b[39m \u001b[34mpurrr    \u001b[39m 1.0.2     \n",
      "── \u001b[1mConflicts\u001b[22m ────────────────────────────────────────── tidyverse_conflicts() ──\n",
      "\u001b[31m✖\u001b[39m \u001b[34mdplyr\u001b[39m::\u001b[32mfilter()\u001b[39m masks \u001b[34mstats\u001b[39m::filter()\n",
      "\u001b[31m✖\u001b[39m \u001b[34mdplyr\u001b[39m::\u001b[32mlag()\u001b[39m    masks \u001b[34mstats\u001b[39m::lag()\n",
      "\u001b[36mℹ\u001b[39m Use the conflicted package (\u001b[3m\u001b[34m<http://conflicted.r-lib.org/>\u001b[39m\u001b[23m) to force all conflicts to become errors\n",
      "Loading required package: grid\n",
      "\n",
      "Loading required package: Matrix\n",
      "\n",
      "\n",
      "Attaching package: ‘Matrix’\n",
      "\n",
      "\n",
      "The following objects are masked from ‘package:tidyr’:\n",
      "\n",
      "    expand, pack, unpack\n",
      "\n",
      "\n",
      "Loading required package: survival\n",
      "\n",
      "\n",
      "Attaching package: ‘survey’\n",
      "\n",
      "\n",
      "The following object is masked from ‘package:graphics’:\n",
      "\n",
      "    dotchart\n",
      "\n",
      "\n"
     ]
    }
   ],
   "source": [
    "library(tidyverse)\n",
    "library(survey)"
   ]
  },
  {
   "cell_type": "markdown",
   "metadata": {},
   "source": [
    "# Data ingestion"
   ]
  },
  {
   "cell_type": "code",
   "execution_count": 2,
   "metadata": {
    "vscode": {
     "languageId": "r"
    }
   },
   "outputs": [
    {
     "data": {
      "text/html": [
       "<table class=\"dataframe\">\n",
       "<caption>A data.frame: 6 × 647</caption>\n",
       "<thead>\n",
       "\t<tr><th></th><th scope=col>URBRRL</th><th scope=col>RATCAT_A</th><th scope=col>INCTCFLG_A</th><th scope=col>IMPINCFLG_A</th><th scope=col>LANGSPECR_A</th><th scope=col>LANGSOC_A</th><th scope=col>LANGDOC_A</th><th scope=col>LANGMED_A</th><th scope=col>LANGHM_A</th><th scope=col>PPSU</th><th scope=col>⋯</th><th scope=col>PROXYREL_A</th><th scope=col>PROXY_A</th><th scope=col>AVAIL_A</th><th scope=col>HHSTAT_A</th><th scope=col>INTV_MON</th><th scope=col>RECTYPE</th><th scope=col>IMPNUM_A</th><th scope=col>WTFA_A</th><th scope=col>HHX</th><th scope=col>POVRATTC_A</th></tr>\n",
       "\t<tr><th></th><th scope=col>&lt;int&gt;</th><th scope=col>&lt;int&gt;</th><th scope=col>&lt;int&gt;</th><th scope=col>&lt;int&gt;</th><th scope=col>&lt;int&gt;</th><th scope=col>&lt;int&gt;</th><th scope=col>&lt;int&gt;</th><th scope=col>&lt;int&gt;</th><th scope=col>&lt;int&gt;</th><th scope=col>&lt;int&gt;</th><th scope=col>⋯</th><th scope=col>&lt;int&gt;</th><th scope=col>&lt;int&gt;</th><th scope=col>&lt;int&gt;</th><th scope=col>&lt;int&gt;</th><th scope=col>&lt;int&gt;</th><th scope=col>&lt;int&gt;</th><th scope=col>&lt;int&gt;</th><th scope=col>&lt;dbl&gt;</th><th scope=col>&lt;chr&gt;</th><th scope=col>&lt;dbl&gt;</th></tr>\n",
       "</thead>\n",
       "<tbody>\n",
       "\t<tr><th scope=row>1</th><td>3</td><td> 4</td><td>0</td><td>0</td><td>NA</td><td>NA</td><td>NA</td><td>NA</td><td>NA</td><td>2</td><td>⋯</td><td>NA</td><td>NA</td><td>1</td><td>1</td><td>1</td><td>10</td><td>1</td><td> 7371.139</td><td>H029691</td><td>1.01</td></tr>\n",
       "\t<tr><th scope=row>2</th><td>4</td><td> 8</td><td>0</td><td>0</td><td>NA</td><td>NA</td><td>NA</td><td>NA</td><td>NA</td><td>2</td><td>⋯</td><td>NA</td><td>NA</td><td>1</td><td>1</td><td>1</td><td>10</td><td>1</td><td> 3146.794</td><td>H028812</td><td>2.49</td></tr>\n",
       "\t<tr><th scope=row>3</th><td>4</td><td>14</td><td>0</td><td>0</td><td>NA</td><td>NA</td><td>NA</td><td>NA</td><td>NA</td><td>2</td><td>⋯</td><td>NA</td><td>NA</td><td>1</td><td>1</td><td>1</td><td>10</td><td>1</td><td>10807.558</td><td>H045277</td><td>6.73</td></tr>\n",
       "\t<tr><th scope=row>4</th><td>4</td><td>10</td><td>0</td><td>0</td><td>NA</td><td>NA</td><td>NA</td><td>NA</td><td>NA</td><td>2</td><td>⋯</td><td>NA</td><td>NA</td><td>1</td><td>1</td><td>1</td><td>10</td><td>1</td><td> 4661.643</td><td>H021192</td><td>3.43</td></tr>\n",
       "\t<tr><th scope=row>5</th><td>4</td><td> 5</td><td>0</td><td>0</td><td>NA</td><td>NA</td><td>NA</td><td>NA</td><td>NA</td><td>2</td><td>⋯</td><td>NA</td><td>NA</td><td>1</td><td>1</td><td>1</td><td>10</td><td>1</td><td>10929.554</td><td>H025576</td><td>1.27</td></tr>\n",
       "\t<tr><th scope=row>6</th><td>4</td><td>14</td><td>0</td><td>0</td><td>NA</td><td>NA</td><td>NA</td><td>NA</td><td>NA</td><td>2</td><td>⋯</td><td>NA</td><td>NA</td><td>1</td><td>1</td><td>1</td><td>10</td><td>1</td><td> 3613.145</td><td>H010713</td><td>9.18</td></tr>\n",
       "</tbody>\n",
       "</table>\n"
      ],
      "text/latex": [
       "A data.frame: 6 × 647\n",
       "\\begin{tabular}{r|lllllllllllllllllllll}\n",
       "  & URBRRL & RATCAT\\_A & INCTCFLG\\_A & IMPINCFLG\\_A & LANGSPECR\\_A & LANGSOC\\_A & LANGDOC\\_A & LANGMED\\_A & LANGHM\\_A & PPSU & ⋯ & PROXYREL\\_A & PROXY\\_A & AVAIL\\_A & HHSTAT\\_A & INTV\\_MON & RECTYPE & IMPNUM\\_A & WTFA\\_A & HHX & POVRATTC\\_A\\\\\n",
       "  & <int> & <int> & <int> & <int> & <int> & <int> & <int> & <int> & <int> & <int> & ⋯ & <int> & <int> & <int> & <int> & <int> & <int> & <int> & <dbl> & <chr> & <dbl>\\\\\n",
       "\\hline\n",
       "\t1 & 3 &  4 & 0 & 0 & NA & NA & NA & NA & NA & 2 & ⋯ & NA & NA & 1 & 1 & 1 & 10 & 1 &  7371.139 & H029691 & 1.01\\\\\n",
       "\t2 & 4 &  8 & 0 & 0 & NA & NA & NA & NA & NA & 2 & ⋯ & NA & NA & 1 & 1 & 1 & 10 & 1 &  3146.794 & H028812 & 2.49\\\\\n",
       "\t3 & 4 & 14 & 0 & 0 & NA & NA & NA & NA & NA & 2 & ⋯ & NA & NA & 1 & 1 & 1 & 10 & 1 & 10807.558 & H045277 & 6.73\\\\\n",
       "\t4 & 4 & 10 & 0 & 0 & NA & NA & NA & NA & NA & 2 & ⋯ & NA & NA & 1 & 1 & 1 & 10 & 1 &  4661.643 & H021192 & 3.43\\\\\n",
       "\t5 & 4 &  5 & 0 & 0 & NA & NA & NA & NA & NA & 2 & ⋯ & NA & NA & 1 & 1 & 1 & 10 & 1 & 10929.554 & H025576 & 1.27\\\\\n",
       "\t6 & 4 & 14 & 0 & 0 & NA & NA & NA & NA & NA & 2 & ⋯ & NA & NA & 1 & 1 & 1 & 10 & 1 &  3613.145 & H010713 & 9.18\\\\\n",
       "\\end{tabular}\n"
      ],
      "text/markdown": [
       "\n",
       "A data.frame: 6 × 647\n",
       "\n",
       "| <!--/--> | URBRRL &lt;int&gt; | RATCAT_A &lt;int&gt; | INCTCFLG_A &lt;int&gt; | IMPINCFLG_A &lt;int&gt; | LANGSPECR_A &lt;int&gt; | LANGSOC_A &lt;int&gt; | LANGDOC_A &lt;int&gt; | LANGMED_A &lt;int&gt; | LANGHM_A &lt;int&gt; | PPSU &lt;int&gt; | ⋯ ⋯ | PROXYREL_A &lt;int&gt; | PROXY_A &lt;int&gt; | AVAIL_A &lt;int&gt; | HHSTAT_A &lt;int&gt; | INTV_MON &lt;int&gt; | RECTYPE &lt;int&gt; | IMPNUM_A &lt;int&gt; | WTFA_A &lt;dbl&gt; | HHX &lt;chr&gt; | POVRATTC_A &lt;dbl&gt; |\n",
       "|---|---|---|---|---|---|---|---|---|---|---|---|---|---|---|---|---|---|---|---|---|---|\n",
       "| 1 | 3 |  4 | 0 | 0 | NA | NA | NA | NA | NA | 2 | ⋯ | NA | NA | 1 | 1 | 1 | 10 | 1 |  7371.139 | H029691 | 1.01 |\n",
       "| 2 | 4 |  8 | 0 | 0 | NA | NA | NA | NA | NA | 2 | ⋯ | NA | NA | 1 | 1 | 1 | 10 | 1 |  3146.794 | H028812 | 2.49 |\n",
       "| 3 | 4 | 14 | 0 | 0 | NA | NA | NA | NA | NA | 2 | ⋯ | NA | NA | 1 | 1 | 1 | 10 | 1 | 10807.558 | H045277 | 6.73 |\n",
       "| 4 | 4 | 10 | 0 | 0 | NA | NA | NA | NA | NA | 2 | ⋯ | NA | NA | 1 | 1 | 1 | 10 | 1 |  4661.643 | H021192 | 3.43 |\n",
       "| 5 | 4 |  5 | 0 | 0 | NA | NA | NA | NA | NA | 2 | ⋯ | NA | NA | 1 | 1 | 1 | 10 | 1 | 10929.554 | H025576 | 1.27 |\n",
       "| 6 | 4 | 14 | 0 | 0 | NA | NA | NA | NA | NA | 2 | ⋯ | NA | NA | 1 | 1 | 1 | 10 | 1 |  3613.145 | H010713 | 9.18 |\n",
       "\n"
      ],
      "text/plain": [
       "  URBRRL RATCAT_A INCTCFLG_A IMPINCFLG_A LANGSPECR_A LANGSOC_A LANGDOC_A\n",
       "1 3       4       0          0           NA          NA        NA       \n",
       "2 4       8       0          0           NA          NA        NA       \n",
       "3 4      14       0          0           NA          NA        NA       \n",
       "4 4      10       0          0           NA          NA        NA       \n",
       "5 4       5       0          0           NA          NA        NA       \n",
       "6 4      14       0          0           NA          NA        NA       \n",
       "  LANGMED_A LANGHM_A PPSU ⋯ PROXYREL_A PROXY_A AVAIL_A HHSTAT_A INTV_MON\n",
       "1 NA        NA       2    ⋯ NA         NA      1       1        1       \n",
       "2 NA        NA       2    ⋯ NA         NA      1       1        1       \n",
       "3 NA        NA       2    ⋯ NA         NA      1       1        1       \n",
       "4 NA        NA       2    ⋯ NA         NA      1       1        1       \n",
       "5 NA        NA       2    ⋯ NA         NA      1       1        1       \n",
       "6 NA        NA       2    ⋯ NA         NA      1       1        1       \n",
       "  RECTYPE IMPNUM_A WTFA_A    HHX     POVRATTC_A\n",
       "1 10      1         7371.139 H029691 1.01      \n",
       "2 10      1         3146.794 H028812 2.49      \n",
       "3 10      1        10807.558 H045277 6.73      \n",
       "4 10      1         4661.643 H021192 3.43      \n",
       "5 10      1        10929.554 H025576 1.27      \n",
       "6 10      1         3613.145 H010713 9.18      "
      ]
     },
     "metadata": {},
     "output_type": "display_data"
    }
   ],
   "source": [
    "data_raw <- read.csv('adult23csv/adult23.csv', stringsAsFactors=FALSE)\n",
    "head(data_raw)"
   ]
  },
  {
   "cell_type": "code",
   "execution_count": 3,
   "metadata": {
    "vscode": {
     "languageId": "r"
    }
   },
   "outputs": [
    {
     "data": {
      "text/html": [
       "<table class=\"dataframe\">\n",
       "<caption>A data.frame: 6 × 11</caption>\n",
       "<thead>\n",
       "\t<tr><th></th><th scope=col>age</th><th scope=col>sex</th><th scope=col>race_eth</th><th scope=col>region</th><th scope=col>ever_smoker</th><th scope=col>poverty</th><th scope=col>employed</th><th scope=col>repstrain</th><th scope=col>.weight</th><th scope=col>.pseudo_stratum</th><th scope=col>.pseudo_psu</th></tr>\n",
       "\t<tr><th></th><th scope=col>&lt;fct&gt;</th><th scope=col>&lt;fct&gt;</th><th scope=col>&lt;fct&gt;</th><th scope=col>&lt;fct&gt;</th><th scope=col>&lt;lgl&gt;</th><th scope=col>&lt;lgl&gt;</th><th scope=col>&lt;lgl&gt;</th><th scope=col>&lt;lgl&gt;</th><th scope=col>&lt;dbl&gt;</th><th scope=col>&lt;int&gt;</th><th scope=col>&lt;int&gt;</th></tr>\n",
       "</thead>\n",
       "<tbody>\n",
       "\t<tr><th scope=row>1</th><td>65+  </td><td>Male  </td><td>Non-Hispanic Black</td><td>South</td><td>FALSE</td><td>FALSE</td><td>FALSE</td><td>FALSE</td><td> 7371.139</td><td>103</td><td>2</td></tr>\n",
       "\t<tr><th scope=row>2</th><td>65+  </td><td>Male  </td><td>Non-Hispanic White</td><td>South</td><td> TRUE</td><td>FALSE</td><td>FALSE</td><td>FALSE</td><td> 3146.794</td><td>122</td><td>2</td></tr>\n",
       "\t<tr><th scope=row>3</th><td>45-64</td><td>Male  </td><td>Non-Hispanic Black</td><td>South</td><td>FALSE</td><td>FALSE</td><td> TRUE</td><td>FALSE</td><td>10807.558</td><td>122</td><td>2</td></tr>\n",
       "\t<tr><th scope=row>4</th><td>25-44</td><td>Female</td><td>Non-Hispanic White</td><td>South</td><td> TRUE</td><td>FALSE</td><td> TRUE</td><td>FALSE</td><td> 4661.643</td><td>122</td><td>2</td></tr>\n",
       "\t<tr><th scope=row>5</th><td>45-64</td><td>Female</td><td>Non-Hispanic White</td><td>South</td><td>FALSE</td><td>FALSE</td><td> TRUE</td><td>FALSE</td><td>10929.554</td><td>122</td><td>2</td></tr>\n",
       "\t<tr><th scope=row>6</th><td>45-64</td><td>Female</td><td>Non-Hispanic White</td><td>South</td><td>FALSE</td><td>FALSE</td><td>FALSE</td><td>FALSE</td><td> 3613.145</td><td>122</td><td>2</td></tr>\n",
       "</tbody>\n",
       "</table>\n"
      ],
      "text/latex": [
       "A data.frame: 6 × 11\n",
       "\\begin{tabular}{r|lllllllllll}\n",
       "  & age & sex & race\\_eth & region & ever\\_smoker & poverty & employed & repstrain & .weight & .pseudo\\_stratum & .pseudo\\_psu\\\\\n",
       "  & <fct> & <fct> & <fct> & <fct> & <lgl> & <lgl> & <lgl> & <lgl> & <dbl> & <int> & <int>\\\\\n",
       "\\hline\n",
       "\t1 & 65+   & Male   & Non-Hispanic Black & South & FALSE & FALSE & FALSE & FALSE &  7371.139 & 103 & 2\\\\\n",
       "\t2 & 65+   & Male   & Non-Hispanic White & South &  TRUE & FALSE & FALSE & FALSE &  3146.794 & 122 & 2\\\\\n",
       "\t3 & 45-64 & Male   & Non-Hispanic Black & South & FALSE & FALSE &  TRUE & FALSE & 10807.558 & 122 & 2\\\\\n",
       "\t4 & 25-44 & Female & Non-Hispanic White & South &  TRUE & FALSE &  TRUE & FALSE &  4661.643 & 122 & 2\\\\\n",
       "\t5 & 45-64 & Female & Non-Hispanic White & South & FALSE & FALSE &  TRUE & FALSE & 10929.554 & 122 & 2\\\\\n",
       "\t6 & 45-64 & Female & Non-Hispanic White & South & FALSE & FALSE & FALSE & FALSE &  3613.145 & 122 & 2\\\\\n",
       "\\end{tabular}\n"
      ],
      "text/markdown": [
       "\n",
       "A data.frame: 6 × 11\n",
       "\n",
       "| <!--/--> | age &lt;fct&gt; | sex &lt;fct&gt; | race_eth &lt;fct&gt; | region &lt;fct&gt; | ever_smoker &lt;lgl&gt; | poverty &lt;lgl&gt; | employed &lt;lgl&gt; | repstrain &lt;lgl&gt; | .weight &lt;dbl&gt; | .pseudo_stratum &lt;int&gt; | .pseudo_psu &lt;int&gt; |\n",
       "|---|---|---|---|---|---|---|---|---|---|---|---|\n",
       "| 1 | 65+   | Male   | Non-Hispanic Black | South | FALSE | FALSE | FALSE | FALSE |  7371.139 | 103 | 2 |\n",
       "| 2 | 65+   | Male   | Non-Hispanic White | South |  TRUE | FALSE | FALSE | FALSE |  3146.794 | 122 | 2 |\n",
       "| 3 | 45-64 | Male   | Non-Hispanic Black | South | FALSE | FALSE |  TRUE | FALSE | 10807.558 | 122 | 2 |\n",
       "| 4 | 25-44 | Female | Non-Hispanic White | South |  TRUE | FALSE |  TRUE | FALSE |  4661.643 | 122 | 2 |\n",
       "| 5 | 45-64 | Female | Non-Hispanic White | South | FALSE | FALSE |  TRUE | FALSE | 10929.554 | 122 | 2 |\n",
       "| 6 | 45-64 | Female | Non-Hispanic White | South | FALSE | FALSE | FALSE | FALSE |  3613.145 | 122 | 2 |\n",
       "\n"
      ],
      "text/plain": [
       "  age   sex    race_eth           region ever_smoker poverty employed repstrain\n",
       "1 65+   Male   Non-Hispanic Black South  FALSE       FALSE   FALSE    FALSE    \n",
       "2 65+   Male   Non-Hispanic White South   TRUE       FALSE   FALSE    FALSE    \n",
       "3 45-64 Male   Non-Hispanic Black South  FALSE       FALSE    TRUE    FALSE    \n",
       "4 25-44 Female Non-Hispanic White South   TRUE       FALSE    TRUE    FALSE    \n",
       "5 45-64 Female Non-Hispanic White South  FALSE       FALSE    TRUE    FALSE    \n",
       "6 45-64 Female Non-Hispanic White South  FALSE       FALSE   FALSE    FALSE    \n",
       "  .weight   .pseudo_stratum .pseudo_psu\n",
       "1  7371.139 103             2          \n",
       "2  3146.794 122             2          \n",
       "3 10807.558 122             2          \n",
       "4  4661.643 122             2          \n",
       "5 10929.554 122             2          \n",
       "6  3613.145 122             2          "
      ]
     },
     "metadata": {},
     "output_type": "display_data"
    }
   ],
   "source": [
    "data = data_raw %>%\n",
    "    select(\n",
    "        AGEP_A, SEX_A, HISPALLP_A, REGION, SMKEV_A, RATCAT_A, EMPLASTWK_A, REPSTRAIN_A,\n",
    "        WTFA_A, PSTRAT, PPSU\n",
    "    ) %>%\n",
    "    rename(\n",
    "        age = AGEP_A,\n",
    "        sex = SEX_A,\n",
    "        race_eth = HISPALLP_A,\n",
    "        region = REGION,\n",
    "        ever_smoker = SMKEV_A,\n",
    "        poverty = RATCAT_A,\n",
    "        employed = EMPLASTWK_A,\n",
    "        repstrain = REPSTRAIN_A,\n",
    "\n",
    "        .weight = WTFA_A,\n",
    "        .pseudo_stratum = PSTRAT,\n",
    "        .pseudo_psu = PPSU,\n",
    "    ) %>%\n",
    "    mutate(\n",
    "        age = relevel(factor(case_when(\n",
    "            age < 18 ~ \"<18\",\n",
    "            (age >= 18 & age <= 24) ~ \"18-24\",\n",
    "            (age >= 25 & age <= 44) ~ \"25-44\",\n",
    "            (age >= 45 & age <= 64) ~ \"45-64\",\n",
    "            age >= 65 ~ \"65+\",\n",
    "            TRUE ~ NA\n",
    "        )), ref = \"25-44\"),\n",
    "        sex = factor(case_when(\n",
    "            sex == 1 ~ \"Male\",\n",
    "            sex == 2 ~ \"Female\",\n",
    "            TRUE ~ NA\n",
    "        )),\n",
    "        race_eth = relevel(factor(case_when(\n",
    "            race_eth == 1 ~ \"Hispanic\",\n",
    "            race_eth == 2 ~ \"Non-Hispanic White\",\n",
    "            race_eth == 3 ~ \"Non-Hispanic Black\",\n",
    "            race_eth == 4 ~ \"Non-Hispanic Asian\",\n",
    "            race_eth %in% c(5, 6, 7) ~ \"Non-Hispanic Other\",\n",
    "            TRUE ~ NA\n",
    "        )), ref = \"Non-Hispanic White\"),\n",
    "        region = relevel(factor(case_when(\n",
    "            region == 1 ~ \"Northeast\",\n",
    "            region == 2 ~ \"Midwest\",\n",
    "            region == 3 ~ \"South\",\n",
    "            region == 4 ~ \"West\",\n",
    "            TRUE ~ NA\n",
    "        )), ref = \"Northeast\"),\n",
    "        ever_smoker = case_when(\n",
    "            ever_smoker %in% c(1) ~ TRUE,\n",
    "            ever_smoker %in% c(2) ~ FALSE,\n",
    "            TRUE ~ NA\n",
    "        ),\n",
    "        poverty = case_when(\n",
    "            poverty %in% c(1, 2, 3) ~ TRUE,\n",
    "            poverty %in% c(4, 5, 6, 7, 8, 9, 10, 11, 12, 13, 14) ~ FALSE,\n",
    "            TRUE ~ NA\n",
    "        ),\n",
    "        employed = case_when(\n",
    "            employed == 1 ~ TRUE,\n",
    "            employed == 2 ~ FALSE,\n",
    "            TRUE ~ NA\n",
    "        ),\n",
    "        repstrain = case_when(\n",
    "            repstrain == 1 ~ TRUE,\n",
    "            repstrain == 2 ~ FALSE,\n",
    "            TRUE ~ NA\n",
    "        )\n",
    "    )\n",
    "    \n",
    "data %>% head()"
   ]
  },
  {
   "cell_type": "code",
   "execution_count": 4,
   "metadata": {
    "vscode": {
     "languageId": "r"
    }
   },
   "outputs": [
    {
     "data": {
      "text/plain": [
       "Stratified 1 - level Cluster Sampling design (with replacement)\n",
       "With (662) clusters.\n",
       "svydesign(id = ~.pseudo_psu, strata = ~.pseudo_stratum, weights = ~.weight, \n",
       "    data = data, nest = TRUE)\n",
       "Probabilities:\n",
       "     Min.   1st Qu.    Median      Mean   3rd Qu.      Max. \n",
       "2.505e-05 9.095e-05 1.356e-04 1.632e-04 2.154e-04 5.579e-04 \n",
       "Stratum Sizes: \n",
       "           100 101 102 103 104 105 106 107 108 109 110 111 112 113 114 115 116\n",
       "obs        853 696 579 437 546 551 634 790 844 691 549 510 129 843 387 540 190\n",
       "design.PSU  17  19  16  12  11  12  14  19  17  16  15   9   3  16  10  14   7\n",
       "actual.PSU  17  19  16  12  11  12  14  19  17  16  15   9   3  16  10  14   7\n",
       "           117 118 119 120 121 122 123 124 125 126 127 128 129 130 131 132 133\n",
       "obs        635 591 797 494 627 557 276 535 358 601 466 303 782 526 583 538 589\n",
       "design.PSU  15  14  14  12  11  16   7  14  10  15  10   6  13  12  14  12  14\n",
       "actual.PSU  15  14  14  12  11  16   7  14  10  15  10   6  13  12  14  12  14\n",
       "           134 135 136 137 138 139 140 141 142 143 144 145 146 147 148 149 150\n",
       "obs        458 524 482 631 505 408 635 567 437 659 720 486 416 617 684 703 550\n",
       "design.PSU  10  12  11  15  11   9  13  13   9  13  18  10   9  12  16  16  11\n",
       "actual.PSU  10  12  11  15  11   9  13  13   9  13  18  10   9  12  16  16  11\n",
       "            151\n",
       "obs        1013\n",
       "design.PSU   18\n",
       "actual.PSU   18\n",
       "Data variables:\n",
       " [1] \"age\"             \"sex\"             \"race_eth\"        \"region\"         \n",
       " [5] \"ever_smoker\"     \"poverty\"         \"employed\"        \"repstrain\"      \n",
       " [9] \".weight\"         \".pseudo_stratum\" \".pseudo_psu\"    "
      ]
     },
     "metadata": {},
     "output_type": "display_data"
    }
   ],
   "source": [
    "design = svydesign(\n",
    "    id = ~.pseudo_psu,\n",
    "    strata = ~.pseudo_stratum,\n",
    "    weights = ~.weight,\n",
    "    data = data,\n",
    "    nest = TRUE\n",
    ")\n",
    "\n",
    "summary(design)"
   ]
  },
  {
   "cell_type": "code",
   "execution_count": 5,
   "metadata": {
    "vscode": {
     "languageId": "r"
    }
   },
   "outputs": [],
   "source": [
    "write.csv(data, \"out/data.csv\", row.names = FALSE)"
   ]
  },
  {
   "cell_type": "markdown",
   "metadata": {},
   "source": [
    "# Data subsetting"
   ]
  },
  {
   "cell_type": "code",
   "execution_count": 6,
   "metadata": {
    "vscode": {
     "languageId": "r"
    }
   },
   "outputs": [
    {
     "data": {
      "text/plain": [
       "Stratified 1 - level Cluster Sampling design (with replacement)\n",
       "With (660) clusters.\n",
       "subset(design, employed == TRUE, !is.na(repstrain), !is.na(sex), \n",
       "    !is.na(ever_smoker))"
      ]
     },
     "metadata": {},
     "output_type": "display_data"
    }
   ],
   "source": [
    "design_employed = subset(\n",
    "    design,\n",
    "    employed == TRUE,\n",
    "    !is.na(repstrain),\n",
    "    !is.na(sex),\n",
    "    !is.na(ever_smoker)\n",
    ")\n",
    "design_employed$variables$employed = NULL\n",
    "\n",
    "design_employed"
   ]
  },
  {
   "cell_type": "code",
   "execution_count": 7,
   "metadata": {
    "vscode": {
     "languageId": "r"
    }
   },
   "outputs": [
    {
     "data": {
      "text/html": [
       "29522"
      ],
      "text/latex": [
       "29522"
      ],
      "text/markdown": [
       "29522"
      ],
      "text/plain": [
       "[1] 29522"
      ]
     },
     "metadata": {},
     "output_type": "display_data"
    },
    {
     "data": {
      "text/html": [
       "28550"
      ],
      "text/latex": [
       "28550"
      ],
      "text/markdown": [
       "28550"
      ],
      "text/plain": [
       "[1] 28550"
      ]
     },
     "metadata": {},
     "output_type": "display_data"
    },
    {
     "data": {
      "text/html": [
       "15621"
      ],
      "text/latex": [
       "15621"
      ],
      "text/markdown": [
       "15621"
      ],
      "text/plain": [
       "[1] 15621"
      ]
     },
     "metadata": {},
     "output_type": "display_data"
    },
    {
     "data": {
      "text/html": [
       "15596"
      ],
      "text/latex": [
       "15596"
      ],
      "text/markdown": [
       "15596"
      ],
      "text/plain": [
       "[1] 15596"
      ]
     },
     "metadata": {},
     "output_type": "display_data"
    }
   ],
   "source": [
    "nrow(data)\n",
    "nrow(data %>% filter(!is.na(repstrain)))\n",
    "nrow(data %>% filter(employed == TRUE, !is.na(repstrain)))\n",
    "nrow(data %>% filter(\n",
    "    employed == TRUE,\n",
    "    !is.na(repstrain),\n",
    "    !is.na(sex),\n",
    "    !is.na(ever_smoker)\n",
    "))\n",
    "\n",
    "modeling_data = data %>% filter(\n",
    "    employed == TRUE,\n",
    "    !is.na(repstrain),\n",
    "    !is.na(sex),\n",
    "    !is.na(ever_smoker)\n",
    ")"
   ]
  },
  {
   "cell_type": "markdown",
   "metadata": {},
   "source": [
    "# Table 1"
   ]
  },
  {
   "cell_type": "code",
   "execution_count": 8,
   "metadata": {
    "vscode": {
     "languageId": "r"
    }
   },
   "outputs": [
    {
     "data": {
      "text/html": [
       "<style>\n",
       ".list-inline {list-style: none; margin:0; padding: 0}\n",
       ".list-inline>li {display: inline-block}\n",
       ".list-inline>li:not(:last-child)::after {content: \"\\00b7\"; padding: 0 .5ex}\n",
       "</style>\n",
       "<ol class=list-inline><li>'age'</li><li>'sex'</li><li>'race_eth'</li><li>'region'</li><li>'ever_smoker'</li><li>'poverty'</li></ol>\n"
      ],
      "text/latex": [
       "\\begin{enumerate*}\n",
       "\\item 'age'\n",
       "\\item 'sex'\n",
       "\\item 'race\\_eth'\n",
       "\\item 'region'\n",
       "\\item 'ever\\_smoker'\n",
       "\\item 'poverty'\n",
       "\\end{enumerate*}\n"
      ],
      "text/markdown": [
       "1. 'age'\n",
       "2. 'sex'\n",
       "3. 'race_eth'\n",
       "4. 'region'\n",
       "5. 'ever_smoker'\n",
       "6. 'poverty'\n",
       "\n",
       "\n"
      ],
      "text/plain": [
       "[1] \"age\"         \"sex\"         \"race_eth\"    \"region\"      \"ever_smoker\"\n",
       "[6] \"poverty\"    "
      ]
     },
     "metadata": {},
     "output_type": "display_data"
    }
   ],
   "source": [
    "outcome_var = \"repstrain\"\n",
    "\n",
    "comp_cols = colnames(design_employed)[\n",
    "    !startsWith(colnames(design_employed), \".\") &\n",
    "    !(colnames(design_employed) == outcome_var)\n",
    "]\n",
    "\n",
    "comp_cols"
   ]
  },
  {
   "cell_type": "code",
   "execution_count": 9,
   "metadata": {
    "vscode": {
     "languageId": "r"
    }
   },
   "outputs": [
    {
     "data": {
      "text/html": [
       "<table class=\"dataframe\">\n",
       "<caption>A tibble: 4 × 8</caption>\n",
       "<thead>\n",
       "\t<tr><th scope=col>variable</th><th scope=col>value</th><th scope=col>weighted_outcome</th><th scope=col>weighted_no_outcome</th><th scope=col>weighted_Overall</th><th scope=col>unweighted_outcome</th><th scope=col>unweighted_no_outcome</th><th scope=col>unweighted_Overall</th></tr>\n",
       "\t<tr><th scope=col>&lt;chr&gt;</th><th scope=col>&lt;fct&gt;</th><th scope=col>&lt;dbl&gt;</th><th scope=col>&lt;dbl&gt;</th><th scope=col>&lt;dbl&gt;</th><th scope=col>&lt;dbl&gt;</th><th scope=col>&lt;dbl&gt;</th><th scope=col>&lt;dbl&gt;</th></tr>\n",
       "</thead>\n",
       "<tbody>\n",
       "\t<tr><td>age</td><td>25-44</td><td>6449067</td><td>59668991</td><td>66118058</td><td>686</td><td>6026</td><td>6712</td></tr>\n",
       "\t<tr><td>age</td><td>18-24</td><td>1204475</td><td>17957079</td><td>19161554</td><td> 79</td><td>1139</td><td>1218</td></tr>\n",
       "\t<tr><td>age</td><td>45-64</td><td>6122200</td><td>48320319</td><td>54442519</td><td>711</td><td>5330</td><td>6041</td></tr>\n",
       "\t<tr><td>age</td><td>65+  </td><td> 802832</td><td> 9394392</td><td>10197224</td><td>135</td><td>1490</td><td>1625</td></tr>\n",
       "</tbody>\n",
       "</table>\n"
      ],
      "text/latex": [
       "A tibble: 4 × 8\n",
       "\\begin{tabular}{llllllll}\n",
       " variable & value & weighted\\_outcome & weighted\\_no\\_outcome & weighted\\_Overall & unweighted\\_outcome & unweighted\\_no\\_outcome & unweighted\\_Overall\\\\\n",
       " <chr> & <fct> & <dbl> & <dbl> & <dbl> & <dbl> & <dbl> & <dbl>\\\\\n",
       "\\hline\n",
       "\t age & 25-44 & 6449067 & 59668991 & 66118058 & 686 & 6026 & 6712\\\\\n",
       "\t age & 18-24 & 1204475 & 17957079 & 19161554 &  79 & 1139 & 1218\\\\\n",
       "\t age & 45-64 & 6122200 & 48320319 & 54442519 & 711 & 5330 & 6041\\\\\n",
       "\t age & 65+   &  802832 &  9394392 & 10197224 & 135 & 1490 & 1625\\\\\n",
       "\\end{tabular}\n"
      ],
      "text/markdown": [
       "\n",
       "A tibble: 4 × 8\n",
       "\n",
       "| variable &lt;chr&gt; | value &lt;fct&gt; | weighted_outcome &lt;dbl&gt; | weighted_no_outcome &lt;dbl&gt; | weighted_Overall &lt;dbl&gt; | unweighted_outcome &lt;dbl&gt; | unweighted_no_outcome &lt;dbl&gt; | unweighted_Overall &lt;dbl&gt; |\n",
       "|---|---|---|---|---|---|---|---|\n",
       "| age | 25-44 | 6449067 | 59668991 | 66118058 | 686 | 6026 | 6712 |\n",
       "| age | 18-24 | 1204475 | 17957079 | 19161554 |  79 | 1139 | 1218 |\n",
       "| age | 45-64 | 6122200 | 48320319 | 54442519 | 711 | 5330 | 6041 |\n",
       "| age | 65+   |  802832 |  9394392 | 10197224 | 135 | 1490 | 1625 |\n",
       "\n"
      ],
      "text/plain": [
       "  variable value weighted_outcome weighted_no_outcome weighted_Overall\n",
       "1 age      25-44 6449067          59668991            66118058        \n",
       "2 age      18-24 1204475          17957079            19161554        \n",
       "3 age      45-64 6122200          48320319            54442519        \n",
       "4 age      65+    802832           9394392            10197224        \n",
       "  unweighted_outcome unweighted_no_outcome unweighted_Overall\n",
       "1 686                6026                  6712              \n",
       "2  79                1139                  1218              \n",
       "3 711                5330                  6041              \n",
       "4 135                1490                  1625              "
      ]
     },
     "metadata": {},
     "output_type": "display_data"
    }
   ],
   "source": [
    "# generate a table 1 for a single variable\n",
    "\n",
    "t1_var = function(vname) {\n",
    "    weighted = data.frame(\n",
    "        svytable(\n",
    "            as.formula(paste0(\"~\", vname, \" + \", outcome_var)),\n",
    "            design_employed,\n",
    "            na.rm = FALSE,\n",
    "            round = TRUE\n",
    "        )) %>%\n",
    "        mutate(weighted = \"weighted\")\n",
    "\n",
    "    unweighted = modeling_data %>%\n",
    "        group_by(!!sym(outcome_var), !!sym(vname)) %>%\n",
    "        summarise(Freq = n(), .groups = \"drop\") %>%\n",
    "        mutate(\n",
    "            weighted = \"unweighted\",\n",
    "            !!sym(outcome_var) := factor(!!sym(outcome_var)),\n",
    "            !!sym(vname) := factor(.data[[vname]])\n",
    "        )\n",
    "    \n",
    "\n",
    "    bind_rows(weighted, unweighted) %>%\n",
    "        mutate(\n",
    "            variable = vname,\n",
    "            outcome_var := factor(case_when(\n",
    "                !!sym(outcome_var) == TRUE ~ \"outcome\",\n",
    "                !!sym(outcome_var) == FALSE ~ \"no_outcome\",\n",
    "                TRUE ~ NA\n",
    "            ))\n",
    "        ) %>%\n",
    "        rename(value = !!sym(vname), n = Freq) %>%\n",
    "        select(variable, value, everything(), -!!sym(outcome_var)) %>%\n",
    "        pivot_wider(names_from = outcome_var, values_from = n) %>%\n",
    "        mutate(\n",
    "            Overall = outcome + no_outcome,\n",
    "        ) %>%\n",
    "        pivot_longer(\n",
    "            cols = c(outcome, no_outcome, Overall),\n",
    "            names_to = outcome_var,\n",
    "            values_to = \"n\"\n",
    "        ) %>%\n",
    "        pivot_wider(names_from = c(weighted, !!sym(outcome_var)), values_from = n) %>%\n",
    "        select(variable, value, everything())\n",
    "}\n",
    "\n",
    "# demo the function\n",
    "t1_var(\"age\")"
   ]
  },
  {
   "cell_type": "code",
   "execution_count": 10,
   "metadata": {
    "vscode": {
     "languageId": "r"
    }
   },
   "outputs": [
    {
     "data": {
      "text/html": [
       "<table class=\"dataframe\">\n",
       "<caption>A tibble: 19 × 10</caption>\n",
       "<thead>\n",
       "\t<tr><th scope=col>variable</th><th scope=col>value</th><th scope=col>unweighted_Overall</th><th scope=col>weighted_Overall</th><th scope=col>unweighted_outcome</th><th scope=col>weighted_outcome</th><th scope=col>w_pct_outcome</th><th scope=col>unweighted_no_outcome</th><th scope=col>weighted_no_outcome</th><th scope=col>w_pct_no_outcome</th></tr>\n",
       "\t<tr><th scope=col>&lt;chr&gt;</th><th scope=col>&lt;fct&gt;</th><th scope=col>&lt;dbl&gt;</th><th scope=col>&lt;dbl&gt;</th><th scope=col>&lt;dbl&gt;</th><th scope=col>&lt;dbl&gt;</th><th scope=col>&lt;chr&gt;</th><th scope=col>&lt;dbl&gt;</th><th scope=col>&lt;dbl&gt;</th><th scope=col>&lt;chr&gt;</th></tr>\n",
       "</thead>\n",
       "<tbody>\n",
       "\t<tr><td>age        </td><td>25-44             </td><td> 6712</td><td> 66118058</td><td> 686</td><td> 6449067</td><td>9.75% </td><td> 6026</td><td> 59668991</td><td>90.25%</td></tr>\n",
       "\t<tr><td>           </td><td>18-24             </td><td> 1218</td><td> 19161554</td><td>  79</td><td> 1204475</td><td>6.29% </td><td> 1139</td><td> 17957079</td><td>93.71%</td></tr>\n",
       "\t<tr><td>           </td><td>45-64             </td><td> 6041</td><td> 54442519</td><td> 711</td><td> 6122200</td><td>11.25%</td><td> 5330</td><td> 48320319</td><td>88.75%</td></tr>\n",
       "\t<tr><td>           </td><td>65+               </td><td> 1625</td><td> 10197224</td><td> 135</td><td>  802832</td><td>7.87% </td><td> 1490</td><td>  9394392</td><td>92.13%</td></tr>\n",
       "\t<tr><td>sex        </td><td>Female            </td><td> 7745</td><td> 69460559</td><td> 823</td><td> 7062455</td><td>10.17%</td><td> 6922</td><td> 62398104</td><td>89.83%</td></tr>\n",
       "\t<tr><td>           </td><td>Male              </td><td> 7851</td><td> 80408263</td><td> 788</td><td> 7516120</td><td>9.35% </td><td> 7063</td><td> 72892143</td><td>90.65%</td></tr>\n",
       "\t<tr><td>race_eth   </td><td>Non-Hispanic White</td><td> 9850</td><td> 90568054</td><td>1088</td><td> 9635016</td><td>10.64%</td><td> 8762</td><td> 80933038</td><td>89.36%</td></tr>\n",
       "\t<tr><td>           </td><td>Hispanic          </td><td> 2665</td><td> 27957539</td><td> 227</td><td> 2162114</td><td>7.73% </td><td> 2438</td><td> 25795425</td><td>92.27%</td></tr>\n",
       "\t<tr><td>           </td><td>Non-Hispanic Asian</td><td> 1039</td><td> 10339886</td><td> 101</td><td>  951249</td><td>9.2%  </td><td>  938</td><td>  9388637</td><td>90.8% </td></tr>\n",
       "\t<tr><td>           </td><td>Non-Hispanic Black</td><td> 1638</td><td> 17083030</td><td> 153</td><td> 1497226</td><td>8.76% </td><td> 1485</td><td> 15585804</td><td>91.24%</td></tr>\n",
       "\t<tr><td>           </td><td>Non-Hispanic Other</td><td>  404</td><td>  3970846</td><td>  42</td><td>  332969</td><td>8.39% </td><td>  362</td><td>  3637877</td><td>91.61%</td></tr>\n",
       "\t<tr><td>region     </td><td>Northeast         </td><td> 2403</td><td> 25777125</td><td> 240</td><td> 2420765</td><td>9.39% </td><td> 2163</td><td> 23356360</td><td>90.61%</td></tr>\n",
       "\t<tr><td>           </td><td>Midwest           </td><td> 3449</td><td> 31538761</td><td> 339</td><td> 2967102</td><td>9.41% </td><td> 3110</td><td> 28571659</td><td>90.59%</td></tr>\n",
       "\t<tr><td>           </td><td>South             </td><td> 5730</td><td> 56751328</td><td> 588</td><td> 5432581</td><td>9.57% </td><td> 5142</td><td> 51318747</td><td>90.43%</td></tr>\n",
       "\t<tr><td>           </td><td>West              </td><td> 4014</td><td> 35852141</td><td> 444</td><td> 3758126</td><td>10.48%</td><td> 3570</td><td> 32094015</td><td>89.52%</td></tr>\n",
       "\t<tr><td>ever_smoker</td><td>FALSE             </td><td>10699</td><td>105045278</td><td> 998</td><td> 9207528</td><td>8.77% </td><td> 9701</td><td> 95837750</td><td>91.23%</td></tr>\n",
       "\t<tr><td>           </td><td>TRUE              </td><td> 4897</td><td> 44673201</td><td> 613</td><td> 5366163</td><td>12.01%</td><td> 4284</td><td> 39307038</td><td>87.99%</td></tr>\n",
       "\t<tr><td>poverty    </td><td>FALSE             </td><td>14776</td><td>141643920</td><td>1539</td><td>13889634</td><td>9.81% </td><td>13237</td><td>127754286</td><td>90.19%</td></tr>\n",
       "\t<tr><td>           </td><td>TRUE              </td><td>  820</td><td>  8275435</td><td>  72</td><td>  688941</td><td>8.33% </td><td>  748</td><td>  7586494</td><td>91.67%</td></tr>\n",
       "</tbody>\n",
       "</table>\n"
      ],
      "text/latex": [
       "A tibble: 19 × 10\n",
       "\\begin{tabular}{llllllllll}\n",
       " variable & value & unweighted\\_Overall & weighted\\_Overall & unweighted\\_outcome & weighted\\_outcome & w\\_pct\\_outcome & unweighted\\_no\\_outcome & weighted\\_no\\_outcome & w\\_pct\\_no\\_outcome\\\\\n",
       " <chr> & <fct> & <dbl> & <dbl> & <dbl> & <dbl> & <chr> & <dbl> & <dbl> & <chr>\\\\\n",
       "\\hline\n",
       "\t age         & 25-44              &  6712 &  66118058 &  686 &  6449067 & 9.75\\%  &  6026 &  59668991 & 90.25\\%\\\\\n",
       "\t             & 18-24              &  1218 &  19161554 &   79 &  1204475 & 6.29\\%  &  1139 &  17957079 & 93.71\\%\\\\\n",
       "\t             & 45-64              &  6041 &  54442519 &  711 &  6122200 & 11.25\\% &  5330 &  48320319 & 88.75\\%\\\\\n",
       "\t             & 65+                &  1625 &  10197224 &  135 &   802832 & 7.87\\%  &  1490 &   9394392 & 92.13\\%\\\\\n",
       "\t sex         & Female             &  7745 &  69460559 &  823 &  7062455 & 10.17\\% &  6922 &  62398104 & 89.83\\%\\\\\n",
       "\t             & Male               &  7851 &  80408263 &  788 &  7516120 & 9.35\\%  &  7063 &  72892143 & 90.65\\%\\\\\n",
       "\t race\\_eth    & Non-Hispanic White &  9850 &  90568054 & 1088 &  9635016 & 10.64\\% &  8762 &  80933038 & 89.36\\%\\\\\n",
       "\t             & Hispanic           &  2665 &  27957539 &  227 &  2162114 & 7.73\\%  &  2438 &  25795425 & 92.27\\%\\\\\n",
       "\t             & Non-Hispanic Asian &  1039 &  10339886 &  101 &   951249 & 9.2\\%   &   938 &   9388637 & 90.8\\% \\\\\n",
       "\t             & Non-Hispanic Black &  1638 &  17083030 &  153 &  1497226 & 8.76\\%  &  1485 &  15585804 & 91.24\\%\\\\\n",
       "\t             & Non-Hispanic Other &   404 &   3970846 &   42 &   332969 & 8.39\\%  &   362 &   3637877 & 91.61\\%\\\\\n",
       "\t region      & Northeast          &  2403 &  25777125 &  240 &  2420765 & 9.39\\%  &  2163 &  23356360 & 90.61\\%\\\\\n",
       "\t             & Midwest            &  3449 &  31538761 &  339 &  2967102 & 9.41\\%  &  3110 &  28571659 & 90.59\\%\\\\\n",
       "\t             & South              &  5730 &  56751328 &  588 &  5432581 & 9.57\\%  &  5142 &  51318747 & 90.43\\%\\\\\n",
       "\t             & West               &  4014 &  35852141 &  444 &  3758126 & 10.48\\% &  3570 &  32094015 & 89.52\\%\\\\\n",
       "\t ever\\_smoker & FALSE              & 10699 & 105045278 &  998 &  9207528 & 8.77\\%  &  9701 &  95837750 & 91.23\\%\\\\\n",
       "\t             & TRUE               &  4897 &  44673201 &  613 &  5366163 & 12.01\\% &  4284 &  39307038 & 87.99\\%\\\\\n",
       "\t poverty     & FALSE              & 14776 & 141643920 & 1539 & 13889634 & 9.81\\%  & 13237 & 127754286 & 90.19\\%\\\\\n",
       "\t             & TRUE               &   820 &   8275435 &   72 &   688941 & 8.33\\%  &   748 &   7586494 & 91.67\\%\\\\\n",
       "\\end{tabular}\n"
      ],
      "text/markdown": [
       "\n",
       "A tibble: 19 × 10\n",
       "\n",
       "| variable &lt;chr&gt; | value &lt;fct&gt; | unweighted_Overall &lt;dbl&gt; | weighted_Overall &lt;dbl&gt; | unweighted_outcome &lt;dbl&gt; | weighted_outcome &lt;dbl&gt; | w_pct_outcome &lt;chr&gt; | unweighted_no_outcome &lt;dbl&gt; | weighted_no_outcome &lt;dbl&gt; | w_pct_no_outcome &lt;chr&gt; |\n",
       "|---|---|---|---|---|---|---|---|---|---|\n",
       "| age         | 25-44              |  6712 |  66118058 |  686 |  6449067 | 9.75%  |  6026 |  59668991 | 90.25% |\n",
       "| <!----> | 18-24              |  1218 |  19161554 |   79 |  1204475 | 6.29%  |  1139 |  17957079 | 93.71% |\n",
       "| <!----> | 45-64              |  6041 |  54442519 |  711 |  6122200 | 11.25% |  5330 |  48320319 | 88.75% |\n",
       "| <!----> | 65+                |  1625 |  10197224 |  135 |   802832 | 7.87%  |  1490 |   9394392 | 92.13% |\n",
       "| sex         | Female             |  7745 |  69460559 |  823 |  7062455 | 10.17% |  6922 |  62398104 | 89.83% |\n",
       "| <!----> | Male               |  7851 |  80408263 |  788 |  7516120 | 9.35%  |  7063 |  72892143 | 90.65% |\n",
       "| race_eth    | Non-Hispanic White |  9850 |  90568054 | 1088 |  9635016 | 10.64% |  8762 |  80933038 | 89.36% |\n",
       "| <!----> | Hispanic           |  2665 |  27957539 |  227 |  2162114 | 7.73%  |  2438 |  25795425 | 92.27% |\n",
       "| <!----> | Non-Hispanic Asian |  1039 |  10339886 |  101 |   951249 | 9.2%   |   938 |   9388637 | 90.8%  |\n",
       "| <!----> | Non-Hispanic Black |  1638 |  17083030 |  153 |  1497226 | 8.76%  |  1485 |  15585804 | 91.24% |\n",
       "| <!----> | Non-Hispanic Other |   404 |   3970846 |   42 |   332969 | 8.39%  |   362 |   3637877 | 91.61% |\n",
       "| region      | Northeast          |  2403 |  25777125 |  240 |  2420765 | 9.39%  |  2163 |  23356360 | 90.61% |\n",
       "| <!----> | Midwest            |  3449 |  31538761 |  339 |  2967102 | 9.41%  |  3110 |  28571659 | 90.59% |\n",
       "| <!----> | South              |  5730 |  56751328 |  588 |  5432581 | 9.57%  |  5142 |  51318747 | 90.43% |\n",
       "| <!----> | West               |  4014 |  35852141 |  444 |  3758126 | 10.48% |  3570 |  32094015 | 89.52% |\n",
       "| ever_smoker | FALSE              | 10699 | 105045278 |  998 |  9207528 | 8.77%  |  9701 |  95837750 | 91.23% |\n",
       "| <!----> | TRUE               |  4897 |  44673201 |  613 |  5366163 | 12.01% |  4284 |  39307038 | 87.99% |\n",
       "| poverty     | FALSE              | 14776 | 141643920 | 1539 | 13889634 | 9.81%  | 13237 | 127754286 | 90.19% |\n",
       "| <!----> | TRUE               |   820 |   8275435 |   72 |   688941 | 8.33%  |   748 |   7586494 | 91.67% |\n",
       "\n"
      ],
      "text/plain": [
       "   variable    value              unweighted_Overall weighted_Overall\n",
       "1  age         25-44               6712               66118058       \n",
       "2              18-24               1218               19161554       \n",
       "3              45-64               6041               54442519       \n",
       "4              65+                 1625               10197224       \n",
       "5  sex         Female              7745               69460559       \n",
       "6              Male                7851               80408263       \n",
       "7  race_eth    Non-Hispanic White  9850               90568054       \n",
       "8              Hispanic            2665               27957539       \n",
       "9              Non-Hispanic Asian  1039               10339886       \n",
       "10             Non-Hispanic Black  1638               17083030       \n",
       "11             Non-Hispanic Other   404                3970846       \n",
       "12 region      Northeast           2403               25777125       \n",
       "13             Midwest             3449               31538761       \n",
       "14             South               5730               56751328       \n",
       "15             West                4014               35852141       \n",
       "16 ever_smoker FALSE              10699              105045278       \n",
       "17             TRUE                4897               44673201       \n",
       "18 poverty     FALSE              14776              141643920       \n",
       "19             TRUE                 820                8275435       \n",
       "   unweighted_outcome weighted_outcome w_pct_outcome unweighted_no_outcome\n",
       "1   686                6449067         9.75%          6026                \n",
       "2    79                1204475         6.29%          1139                \n",
       "3   711                6122200         11.25%         5330                \n",
       "4   135                 802832         7.87%          1490                \n",
       "5   823                7062455         10.17%         6922                \n",
       "6   788                7516120         9.35%          7063                \n",
       "7  1088                9635016         10.64%         8762                \n",
       "8   227                2162114         7.73%          2438                \n",
       "9   101                 951249         9.2%            938                \n",
       "10  153                1497226         8.76%          1485                \n",
       "11   42                 332969         8.39%           362                \n",
       "12  240                2420765         9.39%          2163                \n",
       "13  339                2967102         9.41%          3110                \n",
       "14  588                5432581         9.57%          5142                \n",
       "15  444                3758126         10.48%         3570                \n",
       "16  998                9207528         8.77%          9701                \n",
       "17  613                5366163         12.01%         4284                \n",
       "18 1539               13889634         9.81%         13237                \n",
       "19   72                 688941         8.33%           748                \n",
       "   weighted_no_outcome w_pct_no_outcome\n",
       "1   59668991           90.25%          \n",
       "2   17957079           93.71%          \n",
       "3   48320319           88.75%          \n",
       "4    9394392           92.13%          \n",
       "5   62398104           89.83%          \n",
       "6   72892143           90.65%          \n",
       "7   80933038           89.36%          \n",
       "8   25795425           92.27%          \n",
       "9    9388637           90.8%           \n",
       "10  15585804           91.24%          \n",
       "11   3637877           91.61%          \n",
       "12  23356360           90.61%          \n",
       "13  28571659           90.59%          \n",
       "14  51318747           90.43%          \n",
       "15  32094015           89.52%          \n",
       "16  95837750           91.23%          \n",
       "17  39307038           87.99%          \n",
       "18 127754286           90.19%          \n",
       "19   7586494           91.67%          "
      ]
     },
     "metadata": {},
     "output_type": "display_data"
    }
   ],
   "source": [
    "# generate table 1 for all variables\n",
    "t1_res = list()\n",
    "for (vname in comp_cols) {\n",
    "    t1_res[[vname]] = t1_var(vname)\n",
    "}\n",
    "\n",
    "t1_res = bind_rows(t1_res) %>%\n",
    "    mutate(\n",
    "        variable = ifelse(!is.na(lag(variable)) & (variable == lag(variable)), \"\", variable),\n",
    "        w_pct_outcome = paste0(round(weighted_outcome / weighted_Overall, 4) * 100, \"%\"),\n",
    "        w_pct_no_outcome = paste0(round(weighted_no_outcome / weighted_Overall, 4) * 100, \"%\")\n",
    "    ) %>%\n",
    "    select(\n",
    "        variable, value,\n",
    "        unweighted_Overall, weighted_Overall,\n",
    "        unweighted_outcome, weighted_outcome, w_pct_outcome,\n",
    "        unweighted_no_outcome, weighted_no_outcome, w_pct_no_outcome\n",
    "        )\n",
    "t1_res"
   ]
  },
  {
   "cell_type": "markdown",
   "metadata": {},
   "source": [
    "Do $\\chi^2$ tests for all variables and put the p-values in a table."
   ]
  },
  {
   "cell_type": "code",
   "execution_count": 11,
   "metadata": {
    "vscode": {
     "languageId": "r"
    }
   },
   "outputs": [
    {
     "data": {
      "text/html": [
       "<table class=\"dataframe\">\n",
       "<caption>A data.frame: 6 × 3</caption>\n",
       "<thead>\n",
       "\t<tr><th scope=col>variable</th><th scope=col>p_value</th><th scope=col>test_name</th></tr>\n",
       "\t<tr><th scope=col>&lt;chr&gt;</th><th scope=col>&lt;chr&gt;</th><th scope=col>&lt;chr&gt;</th></tr>\n",
       "</thead>\n",
       "<tbody>\n",
       "\t<tr><td><span style=white-space:pre-wrap>age        </span></td><td>&lt;0.001*</td><td>Pearson's X^2: Rao &amp; Scott adjustment</td></tr>\n",
       "\t<tr><td><span style=white-space:pre-wrap>sex        </span></td><td><span style=white-space:pre-wrap>0.121  </span></td><td>Pearson's X^2: Rao &amp; Scott adjustment</td></tr>\n",
       "\t<tr><td><span style=white-space:pre-wrap>race_eth   </span></td><td>0.002* </td><td>Pearson's X^2: Rao &amp; Scott adjustment</td></tr>\n",
       "\t<tr><td><span style=white-space:pre-wrap>region     </span></td><td><span style=white-space:pre-wrap>0.514  </span></td><td>Pearson's X^2: Rao &amp; Scott adjustment</td></tr>\n",
       "\t<tr><td>ever_smoker</td><td>&lt;0.001*</td><td>Pearson's X^2: Rao &amp; Scott adjustment</td></tr>\n",
       "\t<tr><td><span style=white-space:pre-wrap>poverty    </span></td><td><span style=white-space:pre-wrap>0.228  </span></td><td>Pearson's X^2: Rao &amp; Scott adjustment</td></tr>\n",
       "</tbody>\n",
       "</table>\n"
      ],
      "text/latex": [
       "A data.frame: 6 × 3\n",
       "\\begin{tabular}{lll}\n",
       " variable & p\\_value & test\\_name\\\\\n",
       " <chr> & <chr> & <chr>\\\\\n",
       "\\hline\n",
       "\t age         & <0.001* & Pearson's X\\textasciicircum{}2: Rao \\& Scott adjustment\\\\\n",
       "\t sex         & 0.121   & Pearson's X\\textasciicircum{}2: Rao \\& Scott adjustment\\\\\n",
       "\t race\\_eth    & 0.002*  & Pearson's X\\textasciicircum{}2: Rao \\& Scott adjustment\\\\\n",
       "\t region      & 0.514   & Pearson's X\\textasciicircum{}2: Rao \\& Scott adjustment\\\\\n",
       "\t ever\\_smoker & <0.001* & Pearson's X\\textasciicircum{}2: Rao \\& Scott adjustment\\\\\n",
       "\t poverty     & 0.228   & Pearson's X\\textasciicircum{}2: Rao \\& Scott adjustment\\\\\n",
       "\\end{tabular}\n"
      ],
      "text/markdown": [
       "\n",
       "A data.frame: 6 × 3\n",
       "\n",
       "| variable &lt;chr&gt; | p_value &lt;chr&gt; | test_name &lt;chr&gt; |\n",
       "|---|---|---|\n",
       "| age         | &lt;0.001* | Pearson's X^2: Rao &amp; Scott adjustment |\n",
       "| sex         | 0.121   | Pearson's X^2: Rao &amp; Scott adjustment |\n",
       "| race_eth    | 0.002*  | Pearson's X^2: Rao &amp; Scott adjustment |\n",
       "| region      | 0.514   | Pearson's X^2: Rao &amp; Scott adjustment |\n",
       "| ever_smoker | &lt;0.001* | Pearson's X^2: Rao &amp; Scott adjustment |\n",
       "| poverty     | 0.228   | Pearson's X^2: Rao &amp; Scott adjustment |\n",
       "\n"
      ],
      "text/plain": [
       "  variable    p_value test_name                            \n",
       "1 age         <0.001* Pearson's X^2: Rao & Scott adjustment\n",
       "2 sex         0.121   Pearson's X^2: Rao & Scott adjustment\n",
       "3 race_eth    0.002*  Pearson's X^2: Rao & Scott adjustment\n",
       "4 region      0.514   Pearson's X^2: Rao & Scott adjustment\n",
       "5 ever_smoker <0.001* Pearson's X^2: Rao & Scott adjustment\n",
       "6 poverty     0.228   Pearson's X^2: Rao & Scott adjustment"
      ]
     },
     "metadata": {},
     "output_type": "display_data"
    }
   ],
   "source": [
    "p_res = list()\n",
    "for (vname in comp_cols) {    \n",
    "    test = svychisq(\n",
    "        as.formula(paste0(\"~ \", outcome_var, \" + \", vname)),\n",
    "        design = design_employed,\n",
    "        statistic = \"Chisq\",\n",
    "        na.rm = TRUE\n",
    "    )\n",
    "\n",
    "    p_res[[vname]] = data.frame(\n",
    "        variable = vname,\n",
    "        p_value = unname(test$p.value),\n",
    "        test_name = test$method\n",
    "    )\n",
    "}\n",
    "\n",
    "p_res = bind_rows(p_res) %>%\n",
    "    mutate(\n",
    "        p_value = case_when(\n",
    "            p_value < 0.001 ~ \"<0.001*\",\n",
    "            p_value <= 0.05 & p_value >= 0.001 ~ paste0(round(p_value, 3), \"*\"),\n",
    "            p_value >= 0.001 ~ as.character(round(p_value, 3))\n",
    "        )\n",
    "    )\n",
    "p_res"
   ]
  },
  {
   "cell_type": "code",
   "execution_count": 12,
   "metadata": {
    "vscode": {
     "languageId": "r"
    }
   },
   "outputs": [
    {
     "data": {
      "text/html": [
       "<table class=\"dataframe\">\n",
       "<caption>A tibble: 19 × 12</caption>\n",
       "<thead>\n",
       "\t<tr><th scope=col>variable</th><th scope=col>value</th><th scope=col>unweighted_Overall</th><th scope=col>weighted_Overall</th><th scope=col>unweighted_outcome</th><th scope=col>weighted_outcome</th><th scope=col>w_pct_outcome</th><th scope=col>unweighted_no_outcome</th><th scope=col>weighted_no_outcome</th><th scope=col>w_pct_no_outcome</th><th scope=col>p_value</th><th scope=col>test_name</th></tr>\n",
       "\t<tr><th scope=col>&lt;chr&gt;</th><th scope=col>&lt;fct&gt;</th><th scope=col>&lt;dbl&gt;</th><th scope=col>&lt;dbl&gt;</th><th scope=col>&lt;dbl&gt;</th><th scope=col>&lt;dbl&gt;</th><th scope=col>&lt;chr&gt;</th><th scope=col>&lt;dbl&gt;</th><th scope=col>&lt;dbl&gt;</th><th scope=col>&lt;chr&gt;</th><th scope=col>&lt;chr&gt;</th><th scope=col>&lt;chr&gt;</th></tr>\n",
       "</thead>\n",
       "<tbody>\n",
       "\t<tr><td><span style=white-space:pre-wrap>age        </span></td><td><span style=white-space:pre-wrap>25-44             </span></td><td> 6712</td><td> 66118058</td><td> 686</td><td> 6449067</td><td>9.75% </td><td> 6026</td><td> 59668991</td><td>90.25%</td><td>&lt;0.001*</td><td>Pearson's X^2: Rao &amp; Scott adjustment</td></tr>\n",
       "\t<tr><td>           </td><td>18-24             </td><td> 1218</td><td> 19161554</td><td>  79</td><td> 1204475</td><td>6.29% </td><td> 1139</td><td> 17957079</td><td>93.71%</td><td>       </td><td>                                     </td></tr>\n",
       "\t<tr><td>           </td><td>45-64             </td><td> 6041</td><td> 54442519</td><td> 711</td><td> 6122200</td><td>11.25%</td><td> 5330</td><td> 48320319</td><td>88.75%</td><td>       </td><td>                                     </td></tr>\n",
       "\t<tr><td>           </td><td>65+               </td><td> 1625</td><td> 10197224</td><td> 135</td><td>  802832</td><td>7.87% </td><td> 1490</td><td>  9394392</td><td>92.13%</td><td>       </td><td>                                     </td></tr>\n",
       "\t<tr><td><span style=white-space:pre-wrap>sex        </span></td><td><span style=white-space:pre-wrap>Female            </span></td><td> 7745</td><td> 69460559</td><td> 823</td><td> 7062455</td><td>10.17%</td><td> 6922</td><td> 62398104</td><td>89.83%</td><td><span style=white-space:pre-wrap>0.121  </span></td><td>Pearson's X^2: Rao &amp; Scott adjustment</td></tr>\n",
       "\t<tr><td>           </td><td>Male              </td><td> 7851</td><td> 80408263</td><td> 788</td><td> 7516120</td><td>9.35% </td><td> 7063</td><td> 72892143</td><td>90.65%</td><td>       </td><td>                                     </td></tr>\n",
       "\t<tr><td><span style=white-space:pre-wrap>race_eth   </span></td><td>Non-Hispanic White</td><td> 9850</td><td> 90568054</td><td>1088</td><td> 9635016</td><td>10.64%</td><td> 8762</td><td> 80933038</td><td>89.36%</td><td>0.002* </td><td>Pearson's X^2: Rao &amp; Scott adjustment</td></tr>\n",
       "\t<tr><td>           </td><td>Hispanic          </td><td> 2665</td><td> 27957539</td><td> 227</td><td> 2162114</td><td>7.73% </td><td> 2438</td><td> 25795425</td><td>92.27%</td><td>       </td><td>                                     </td></tr>\n",
       "\t<tr><td>           </td><td>Non-Hispanic Asian</td><td> 1039</td><td> 10339886</td><td> 101</td><td>  951249</td><td>9.2%  </td><td>  938</td><td>  9388637</td><td>90.8% </td><td>       </td><td>                                     </td></tr>\n",
       "\t<tr><td>           </td><td>Non-Hispanic Black</td><td> 1638</td><td> 17083030</td><td> 153</td><td> 1497226</td><td>8.76% </td><td> 1485</td><td> 15585804</td><td>91.24%</td><td>       </td><td>                                     </td></tr>\n",
       "\t<tr><td>           </td><td>Non-Hispanic Other</td><td>  404</td><td>  3970846</td><td>  42</td><td>  332969</td><td>8.39% </td><td>  362</td><td>  3637877</td><td>91.61%</td><td>       </td><td>                                     </td></tr>\n",
       "\t<tr><td><span style=white-space:pre-wrap>region     </span></td><td><span style=white-space:pre-wrap>Northeast         </span></td><td> 2403</td><td> 25777125</td><td> 240</td><td> 2420765</td><td>9.39% </td><td> 2163</td><td> 23356360</td><td>90.61%</td><td><span style=white-space:pre-wrap>0.514  </span></td><td>Pearson's X^2: Rao &amp; Scott adjustment</td></tr>\n",
       "\t<tr><td>           </td><td>Midwest           </td><td> 3449</td><td> 31538761</td><td> 339</td><td> 2967102</td><td>9.41% </td><td> 3110</td><td> 28571659</td><td>90.59%</td><td>       </td><td>                                     </td></tr>\n",
       "\t<tr><td>           </td><td>South             </td><td> 5730</td><td> 56751328</td><td> 588</td><td> 5432581</td><td>9.57% </td><td> 5142</td><td> 51318747</td><td>90.43%</td><td>       </td><td>                                     </td></tr>\n",
       "\t<tr><td>           </td><td>West              </td><td> 4014</td><td> 35852141</td><td> 444</td><td> 3758126</td><td>10.48%</td><td> 3570</td><td> 32094015</td><td>89.52%</td><td>       </td><td>                                     </td></tr>\n",
       "\t<tr><td>ever_smoker</td><td><span style=white-space:pre-wrap>FALSE             </span></td><td>10699</td><td>105045278</td><td> 998</td><td> 9207528</td><td>8.77% </td><td> 9701</td><td> 95837750</td><td>91.23%</td><td>&lt;0.001*</td><td>Pearson's X^2: Rao &amp; Scott adjustment</td></tr>\n",
       "\t<tr><td>           </td><td>TRUE              </td><td> 4897</td><td> 44673201</td><td> 613</td><td> 5366163</td><td>12.01%</td><td> 4284</td><td> 39307038</td><td>87.99%</td><td>       </td><td>                                     </td></tr>\n",
       "\t<tr><td><span style=white-space:pre-wrap>poverty    </span></td><td><span style=white-space:pre-wrap>FALSE             </span></td><td>14776</td><td>141643920</td><td>1539</td><td>13889634</td><td>9.81% </td><td>13237</td><td>127754286</td><td>90.19%</td><td><span style=white-space:pre-wrap>0.228  </span></td><td>Pearson's X^2: Rao &amp; Scott adjustment</td></tr>\n",
       "\t<tr><td>           </td><td>TRUE              </td><td>  820</td><td>  8275435</td><td>  72</td><td>  688941</td><td>8.33% </td><td>  748</td><td>  7586494</td><td>91.67%</td><td>       </td><td>                                     </td></tr>\n",
       "</tbody>\n",
       "</table>\n"
      ],
      "text/latex": [
       "A tibble: 19 × 12\n",
       "\\begin{tabular}{llllllllllll}\n",
       " variable & value & unweighted\\_Overall & weighted\\_Overall & unweighted\\_outcome & weighted\\_outcome & w\\_pct\\_outcome & unweighted\\_no\\_outcome & weighted\\_no\\_outcome & w\\_pct\\_no\\_outcome & p\\_value & test\\_name\\\\\n",
       " <chr> & <fct> & <dbl> & <dbl> & <dbl> & <dbl> & <chr> & <dbl> & <dbl> & <chr> & <chr> & <chr>\\\\\n",
       "\\hline\n",
       "\t age         & 25-44              &  6712 &  66118058 &  686 &  6449067 & 9.75\\%  &  6026 &  59668991 & 90.25\\% & <0.001* & Pearson's X\\textasciicircum{}2: Rao \\& Scott adjustment\\\\\n",
       "\t             & 18-24              &  1218 &  19161554 &   79 &  1204475 & 6.29\\%  &  1139 &  17957079 & 93.71\\% &         &                                      \\\\\n",
       "\t             & 45-64              &  6041 &  54442519 &  711 &  6122200 & 11.25\\% &  5330 &  48320319 & 88.75\\% &         &                                      \\\\\n",
       "\t             & 65+                &  1625 &  10197224 &  135 &   802832 & 7.87\\%  &  1490 &   9394392 & 92.13\\% &         &                                      \\\\\n",
       "\t sex         & Female             &  7745 &  69460559 &  823 &  7062455 & 10.17\\% &  6922 &  62398104 & 89.83\\% & 0.121   & Pearson's X\\textasciicircum{}2: Rao \\& Scott adjustment\\\\\n",
       "\t             & Male               &  7851 &  80408263 &  788 &  7516120 & 9.35\\%  &  7063 &  72892143 & 90.65\\% &         &                                      \\\\\n",
       "\t race\\_eth    & Non-Hispanic White &  9850 &  90568054 & 1088 &  9635016 & 10.64\\% &  8762 &  80933038 & 89.36\\% & 0.002*  & Pearson's X\\textasciicircum{}2: Rao \\& Scott adjustment\\\\\n",
       "\t             & Hispanic           &  2665 &  27957539 &  227 &  2162114 & 7.73\\%  &  2438 &  25795425 & 92.27\\% &         &                                      \\\\\n",
       "\t             & Non-Hispanic Asian &  1039 &  10339886 &  101 &   951249 & 9.2\\%   &   938 &   9388637 & 90.8\\%  &         &                                      \\\\\n",
       "\t             & Non-Hispanic Black &  1638 &  17083030 &  153 &  1497226 & 8.76\\%  &  1485 &  15585804 & 91.24\\% &         &                                      \\\\\n",
       "\t             & Non-Hispanic Other &   404 &   3970846 &   42 &   332969 & 8.39\\%  &   362 &   3637877 & 91.61\\% &         &                                      \\\\\n",
       "\t region      & Northeast          &  2403 &  25777125 &  240 &  2420765 & 9.39\\%  &  2163 &  23356360 & 90.61\\% & 0.514   & Pearson's X\\textasciicircum{}2: Rao \\& Scott adjustment\\\\\n",
       "\t             & Midwest            &  3449 &  31538761 &  339 &  2967102 & 9.41\\%  &  3110 &  28571659 & 90.59\\% &         &                                      \\\\\n",
       "\t             & South              &  5730 &  56751328 &  588 &  5432581 & 9.57\\%  &  5142 &  51318747 & 90.43\\% &         &                                      \\\\\n",
       "\t             & West               &  4014 &  35852141 &  444 &  3758126 & 10.48\\% &  3570 &  32094015 & 89.52\\% &         &                                      \\\\\n",
       "\t ever\\_smoker & FALSE              & 10699 & 105045278 &  998 &  9207528 & 8.77\\%  &  9701 &  95837750 & 91.23\\% & <0.001* & Pearson's X\\textasciicircum{}2: Rao \\& Scott adjustment\\\\\n",
       "\t             & TRUE               &  4897 &  44673201 &  613 &  5366163 & 12.01\\% &  4284 &  39307038 & 87.99\\% &         &                                      \\\\\n",
       "\t poverty     & FALSE              & 14776 & 141643920 & 1539 & 13889634 & 9.81\\%  & 13237 & 127754286 & 90.19\\% & 0.228   & Pearson's X\\textasciicircum{}2: Rao \\& Scott adjustment\\\\\n",
       "\t             & TRUE               &   820 &   8275435 &   72 &   688941 & 8.33\\%  &   748 &   7586494 & 91.67\\% &         &                                      \\\\\n",
       "\\end{tabular}\n"
      ],
      "text/markdown": [
       "\n",
       "A tibble: 19 × 12\n",
       "\n",
       "| variable &lt;chr&gt; | value &lt;fct&gt; | unweighted_Overall &lt;dbl&gt; | weighted_Overall &lt;dbl&gt; | unweighted_outcome &lt;dbl&gt; | weighted_outcome &lt;dbl&gt; | w_pct_outcome &lt;chr&gt; | unweighted_no_outcome &lt;dbl&gt; | weighted_no_outcome &lt;dbl&gt; | w_pct_no_outcome &lt;chr&gt; | p_value &lt;chr&gt; | test_name &lt;chr&gt; |\n",
       "|---|---|---|---|---|---|---|---|---|---|---|---|\n",
       "| age         | 25-44              |  6712 |  66118058 |  686 |  6449067 | 9.75%  |  6026 |  59668991 | 90.25% | &lt;0.001* | Pearson's X^2: Rao &amp; Scott adjustment |\n",
       "| <!----> | 18-24              |  1218 |  19161554 |   79 |  1204475 | 6.29%  |  1139 |  17957079 | 93.71% | <!----> | <!----> |\n",
       "| <!----> | 45-64              |  6041 |  54442519 |  711 |  6122200 | 11.25% |  5330 |  48320319 | 88.75% | <!----> | <!----> |\n",
       "| <!----> | 65+                |  1625 |  10197224 |  135 |   802832 | 7.87%  |  1490 |   9394392 | 92.13% | <!----> | <!----> |\n",
       "| sex         | Female             |  7745 |  69460559 |  823 |  7062455 | 10.17% |  6922 |  62398104 | 89.83% | 0.121   | Pearson's X^2: Rao &amp; Scott adjustment |\n",
       "| <!----> | Male               |  7851 |  80408263 |  788 |  7516120 | 9.35%  |  7063 |  72892143 | 90.65% | <!----> | <!----> |\n",
       "| race_eth    | Non-Hispanic White |  9850 |  90568054 | 1088 |  9635016 | 10.64% |  8762 |  80933038 | 89.36% | 0.002*  | Pearson's X^2: Rao &amp; Scott adjustment |\n",
       "| <!----> | Hispanic           |  2665 |  27957539 |  227 |  2162114 | 7.73%  |  2438 |  25795425 | 92.27% | <!----> | <!----> |\n",
       "| <!----> | Non-Hispanic Asian |  1039 |  10339886 |  101 |   951249 | 9.2%   |   938 |   9388637 | 90.8%  | <!----> | <!----> |\n",
       "| <!----> | Non-Hispanic Black |  1638 |  17083030 |  153 |  1497226 | 8.76%  |  1485 |  15585804 | 91.24% | <!----> | <!----> |\n",
       "| <!----> | Non-Hispanic Other |   404 |   3970846 |   42 |   332969 | 8.39%  |   362 |   3637877 | 91.61% | <!----> | <!----> |\n",
       "| region      | Northeast          |  2403 |  25777125 |  240 |  2420765 | 9.39%  |  2163 |  23356360 | 90.61% | 0.514   | Pearson's X^2: Rao &amp; Scott adjustment |\n",
       "| <!----> | Midwest            |  3449 |  31538761 |  339 |  2967102 | 9.41%  |  3110 |  28571659 | 90.59% | <!----> | <!----> |\n",
       "| <!----> | South              |  5730 |  56751328 |  588 |  5432581 | 9.57%  |  5142 |  51318747 | 90.43% | <!----> | <!----> |\n",
       "| <!----> | West               |  4014 |  35852141 |  444 |  3758126 | 10.48% |  3570 |  32094015 | 89.52% | <!----> | <!----> |\n",
       "| ever_smoker | FALSE              | 10699 | 105045278 |  998 |  9207528 | 8.77%  |  9701 |  95837750 | 91.23% | &lt;0.001* | Pearson's X^2: Rao &amp; Scott adjustment |\n",
       "| <!----> | TRUE               |  4897 |  44673201 |  613 |  5366163 | 12.01% |  4284 |  39307038 | 87.99% | <!----> | <!----> |\n",
       "| poverty     | FALSE              | 14776 | 141643920 | 1539 | 13889634 | 9.81%  | 13237 | 127754286 | 90.19% | 0.228   | Pearson's X^2: Rao &amp; Scott adjustment |\n",
       "| <!----> | TRUE               |   820 |   8275435 |   72 |   688941 | 8.33%  |   748 |   7586494 | 91.67% | <!----> | <!----> |\n",
       "\n"
      ],
      "text/plain": [
       "   variable    value              unweighted_Overall weighted_Overall\n",
       "1  age         25-44               6712               66118058       \n",
       "2              18-24               1218               19161554       \n",
       "3              45-64               6041               54442519       \n",
       "4              65+                 1625               10197224       \n",
       "5  sex         Female              7745               69460559       \n",
       "6              Male                7851               80408263       \n",
       "7  race_eth    Non-Hispanic White  9850               90568054       \n",
       "8              Hispanic            2665               27957539       \n",
       "9              Non-Hispanic Asian  1039               10339886       \n",
       "10             Non-Hispanic Black  1638               17083030       \n",
       "11             Non-Hispanic Other   404                3970846       \n",
       "12 region      Northeast           2403               25777125       \n",
       "13             Midwest             3449               31538761       \n",
       "14             South               5730               56751328       \n",
       "15             West                4014               35852141       \n",
       "16 ever_smoker FALSE              10699              105045278       \n",
       "17             TRUE                4897               44673201       \n",
       "18 poverty     FALSE              14776              141643920       \n",
       "19             TRUE                 820                8275435       \n",
       "   unweighted_outcome weighted_outcome w_pct_outcome unweighted_no_outcome\n",
       "1   686                6449067         9.75%          6026                \n",
       "2    79                1204475         6.29%          1139                \n",
       "3   711                6122200         11.25%         5330                \n",
       "4   135                 802832         7.87%          1490                \n",
       "5   823                7062455         10.17%         6922                \n",
       "6   788                7516120         9.35%          7063                \n",
       "7  1088                9635016         10.64%         8762                \n",
       "8   227                2162114         7.73%          2438                \n",
       "9   101                 951249         9.2%            938                \n",
       "10  153                1497226         8.76%          1485                \n",
       "11   42                 332969         8.39%           362                \n",
       "12  240                2420765         9.39%          2163                \n",
       "13  339                2967102         9.41%          3110                \n",
       "14  588                5432581         9.57%          5142                \n",
       "15  444                3758126         10.48%         3570                \n",
       "16  998                9207528         8.77%          9701                \n",
       "17  613                5366163         12.01%         4284                \n",
       "18 1539               13889634         9.81%         13237                \n",
       "19   72                 688941         8.33%           748                \n",
       "   weighted_no_outcome w_pct_no_outcome p_value\n",
       "1   59668991           90.25%           <0.001*\n",
       "2   17957079           93.71%                  \n",
       "3   48320319           88.75%                  \n",
       "4    9394392           92.13%                  \n",
       "5   62398104           89.83%           0.121  \n",
       "6   72892143           90.65%                  \n",
       "7   80933038           89.36%           0.002* \n",
       "8   25795425           92.27%                  \n",
       "9    9388637           90.8%                   \n",
       "10  15585804           91.24%                  \n",
       "11   3637877           91.61%                  \n",
       "12  23356360           90.61%           0.514  \n",
       "13  28571659           90.59%                  \n",
       "14  51318747           90.43%                  \n",
       "15  32094015           89.52%                  \n",
       "16  95837750           91.23%           <0.001*\n",
       "17  39307038           87.99%                  \n",
       "18 127754286           90.19%           0.228  \n",
       "19   7586494           91.67%                  \n",
       "   test_name                            \n",
       "1  Pearson's X^2: Rao & Scott adjustment\n",
       "2                                       \n",
       "3                                       \n",
       "4                                       \n",
       "5  Pearson's X^2: Rao & Scott adjustment\n",
       "6                                       \n",
       "7  Pearson's X^2: Rao & Scott adjustment\n",
       "8                                       \n",
       "9                                       \n",
       "10                                      \n",
       "11                                      \n",
       "12 Pearson's X^2: Rao & Scott adjustment\n",
       "13                                      \n",
       "14                                      \n",
       "15                                      \n",
       "16 Pearson's X^2: Rao & Scott adjustment\n",
       "17                                      \n",
       "18 Pearson's X^2: Rao & Scott adjustment\n",
       "19                                      "
      ]
     },
     "metadata": {},
     "output_type": "display_data"
    }
   ],
   "source": [
    "# combine p-values with descriptive statistics to create final table 1\n",
    "t1_final = t1_res %>%\n",
    "    left_join(p_res, by = \"variable\", ) %>%\n",
    "    replace_na(list(p_value = \"\", test_name = \"\"))\n",
    "\n",
    "t1_final"
   ]
  },
  {
   "cell_type": "code",
   "execution_count": 13,
   "metadata": {
    "vscode": {
     "languageId": "r"
    }
   },
   "outputs": [],
   "source": [
    "write.csv(t1_final, \"out/t1_final.csv\", row.names = FALSE)"
   ]
  },
  {
   "cell_type": "markdown",
   "metadata": {},
   "source": [
    "# Modeling"
   ]
  },
  {
   "cell_type": "code",
   "execution_count": 14,
   "metadata": {
    "vscode": {
     "languageId": "r"
    }
   },
   "outputs": [
    {
     "data": {
      "text/plain": [
       "\n",
       "Call:\n",
       "svyglm(formula = repstrain ~ age + sex + race_eth + region + \n",
       "    poverty + ever_smoker, design = design_employed, family = \"quasibinomial\")\n",
       "\n",
       "Survey design:\n",
       "subset(design, employed == TRUE, !is.na(repstrain), !is.na(sex), \n",
       "    !is.na(ever_smoker))\n",
       "\n",
       "Coefficients:\n",
       "                           Estimate Std. Error t value Pr(>|t|)    \n",
       "(Intercept)                -2.20892    0.09686 -22.806  < 2e-16 ***\n",
       "age18-24                   -0.40334    0.14863  -2.714 0.006846 ** \n",
       "age45-64                    0.12260    0.06395   1.917 0.055700 .  \n",
       "age65+                     -0.30553    0.11009  -2.775 0.005690 ** \n",
       "sexMale                    -0.12601    0.06079  -2.073 0.038606 *  \n",
       "race_ethHispanic           -0.33464    0.10067  -3.324 0.000941 ***\n",
       "race_ethNon-Hispanic Asian -0.15651    0.13511  -1.158 0.247187    \n",
       "race_ethNon-Hispanic Black -0.17695    0.10725  -1.650 0.099480 .  \n",
       "race_ethNon-Hispanic Other -0.24322    0.23259  -1.046 0.296114    \n",
       "regionMidwest              -0.03446    0.10793  -0.319 0.749665    \n",
       "regionSouth                 0.05844    0.09353   0.625 0.532316    \n",
       "regionWest                  0.19534    0.10399   1.879 0.060797 .  \n",
       "povertyTRUE                -0.05213    0.15296  -0.341 0.733394    \n",
       "ever_smokerTRUE             0.28803    0.06558   4.392 1.33e-05 ***\n",
       "---\n",
       "Signif. codes:  0 ‘***’ 0.001 ‘**’ 0.01 ‘*’ 0.05 ‘.’ 0.1 ‘ ’ 1\n",
       "\n",
       "(Dispersion parameter for quasibinomial family taken to be 1.001823)\n",
       "\n",
       "Number of Fisher Scoring iterations: 5\n"
      ]
     },
     "metadata": {},
     "output_type": "display_data"
    }
   ],
   "source": [
    "m1 = svyglm(repstrain ~ age + sex + race_eth + region + poverty + ever_smoker, design = design_employed, family = \"quasibinomial\")\n",
    "summary(m1)"
   ]
  },
  {
   "cell_type": "code",
   "execution_count": 15,
   "metadata": {
    "vscode": {
     "languageId": "r"
    }
   },
   "outputs": [
    {
     "data": {
      "text/html": [
       "<table class=\"dataframe\">\n",
       "<caption>A data.frame: 14 × 4</caption>\n",
       "<thead>\n",
       "\t<tr><th scope=col>Term</th><th scope=col>Odds Ratio</th><th scope=col>95% Confidence Interval</th><th scope=col>p value</th></tr>\n",
       "\t<tr><th scope=col>&lt;chr&gt;</th><th scope=col>&lt;dbl&gt;</th><th scope=col>&lt;chr&gt;</th><th scope=col>&lt;chr&gt;</th></tr>\n",
       "</thead>\n",
       "<tbody>\n",
       "\t<tr><td><span style=white-space:pre-wrap>(Intercept)               </span></td><td>0.110</td><td>(0.091, 0.133)</td><td>&lt;0.001*</td></tr>\n",
       "\t<tr><td>age18-24                  </td><td>0.668</td><td>(0.499, 0.894)</td><td>0.007* </td></tr>\n",
       "\t<tr><td>age45-64                  </td><td>1.130</td><td>(0.997, 1.281)</td><td>0.056  </td></tr>\n",
       "\t<tr><td>age65+                    </td><td>0.737</td><td>(0.594, 0.914)</td><td>0.006* </td></tr>\n",
       "\t<tr><td>sexMale                   </td><td>0.882</td><td>(0.783, 0.993)</td><td>0.039* </td></tr>\n",
       "\t<tr><td><span style=white-space:pre-wrap>race_ethHispanic          </span></td><td>0.716</td><td>(0.587, 0.872)</td><td>&lt;0.001*</td></tr>\n",
       "\t<tr><td>race_ethNon-Hispanic Asian</td><td>0.855</td><td>(0.656, 1.114)</td><td>0.247  </td></tr>\n",
       "\t<tr><td>race_ethNon-Hispanic Black</td><td>0.838</td><td>(0.679, 1.034)</td><td>0.099  </td></tr>\n",
       "\t<tr><td>race_ethNon-Hispanic Other</td><td>0.784</td><td>(0.497, 1.237)</td><td>0.296  </td></tr>\n",
       "\t<tr><td>regionMidwest             </td><td>0.966</td><td>(0.782, 1.194)</td><td>0.75   </td></tr>\n",
       "\t<tr><td>regionSouth               </td><td>1.060</td><td>(0.883, 1.273)</td><td>0.532  </td></tr>\n",
       "\t<tr><td>regionWest                </td><td>1.216</td><td>(0.992, 1.491)</td><td>0.061  </td></tr>\n",
       "\t<tr><td>povertyTRUE               </td><td>0.949</td><td>(0.703, 1.281)</td><td>0.733  </td></tr>\n",
       "\t<tr><td><span style=white-space:pre-wrap>ever_smokerTRUE           </span></td><td>1.334</td><td>(1.173, 1.517)</td><td>&lt;0.001*</td></tr>\n",
       "</tbody>\n",
       "</table>\n"
      ],
      "text/latex": [
       "A data.frame: 14 × 4\n",
       "\\begin{tabular}{llll}\n",
       " Term & Odds Ratio & 95\\% Confidence Interval & p value\\\\\n",
       " <chr> & <dbl> & <chr> & <chr>\\\\\n",
       "\\hline\n",
       "\t (Intercept)                & 0.110 & (0.091, 0.133) & <0.001*\\\\\n",
       "\t age18-24                   & 0.668 & (0.499, 0.894) & 0.007* \\\\\n",
       "\t age45-64                   & 1.130 & (0.997, 1.281) & 0.056  \\\\\n",
       "\t age65+                     & 0.737 & (0.594, 0.914) & 0.006* \\\\\n",
       "\t sexMale                    & 0.882 & (0.783, 0.993) & 0.039* \\\\\n",
       "\t race\\_ethHispanic           & 0.716 & (0.587, 0.872) & <0.001*\\\\\n",
       "\t race\\_ethNon-Hispanic Asian & 0.855 & (0.656, 1.114) & 0.247  \\\\\n",
       "\t race\\_ethNon-Hispanic Black & 0.838 & (0.679, 1.034) & 0.099  \\\\\n",
       "\t race\\_ethNon-Hispanic Other & 0.784 & (0.497, 1.237) & 0.296  \\\\\n",
       "\t regionMidwest              & 0.966 & (0.782, 1.194) & 0.75   \\\\\n",
       "\t regionSouth                & 1.060 & (0.883, 1.273) & 0.532  \\\\\n",
       "\t regionWest                 & 1.216 & (0.992, 1.491) & 0.061  \\\\\n",
       "\t povertyTRUE                & 0.949 & (0.703, 1.281) & 0.733  \\\\\n",
       "\t ever\\_smokerTRUE            & 1.334 & (1.173, 1.517) & <0.001*\\\\\n",
       "\\end{tabular}\n"
      ],
      "text/markdown": [
       "\n",
       "A data.frame: 14 × 4\n",
       "\n",
       "| Term &lt;chr&gt; | Odds Ratio &lt;dbl&gt; | 95% Confidence Interval &lt;chr&gt; | p value &lt;chr&gt; |\n",
       "|---|---|---|---|\n",
       "| (Intercept)                | 0.110 | (0.091, 0.133) | &lt;0.001* |\n",
       "| age18-24                   | 0.668 | (0.499, 0.894) | 0.007*  |\n",
       "| age45-64                   | 1.130 | (0.997, 1.281) | 0.056   |\n",
       "| age65+                     | 0.737 | (0.594, 0.914) | 0.006*  |\n",
       "| sexMale                    | 0.882 | (0.783, 0.993) | 0.039*  |\n",
       "| race_ethHispanic           | 0.716 | (0.587, 0.872) | &lt;0.001* |\n",
       "| race_ethNon-Hispanic Asian | 0.855 | (0.656, 1.114) | 0.247   |\n",
       "| race_ethNon-Hispanic Black | 0.838 | (0.679, 1.034) | 0.099   |\n",
       "| race_ethNon-Hispanic Other | 0.784 | (0.497, 1.237) | 0.296   |\n",
       "| regionMidwest              | 0.966 | (0.782, 1.194) | 0.75    |\n",
       "| regionSouth                | 1.060 | (0.883, 1.273) | 0.532   |\n",
       "| regionWest                 | 1.216 | (0.992, 1.491) | 0.061   |\n",
       "| povertyTRUE                | 0.949 | (0.703, 1.281) | 0.733   |\n",
       "| ever_smokerTRUE            | 1.334 | (1.173, 1.517) | &lt;0.001* |\n",
       "\n"
      ],
      "text/plain": [
       "   Term                       Odds Ratio 95% Confidence Interval p value\n",
       "1  (Intercept)                0.110      (0.091, 0.133)          <0.001*\n",
       "2  age18-24                   0.668      (0.499, 0.894)          0.007* \n",
       "3  age45-64                   1.130      (0.997, 1.281)          0.056  \n",
       "4  age65+                     0.737      (0.594, 0.914)          0.006* \n",
       "5  sexMale                    0.882      (0.783, 0.993)          0.039* \n",
       "6  race_ethHispanic           0.716      (0.587, 0.872)          <0.001*\n",
       "7  race_ethNon-Hispanic Asian 0.855      (0.656, 1.114)          0.247  \n",
       "8  race_ethNon-Hispanic Black 0.838      (0.679, 1.034)          0.099  \n",
       "9  race_ethNon-Hispanic Other 0.784      (0.497, 1.237)          0.296  \n",
       "10 regionMidwest              0.966      (0.782, 1.194)          0.75   \n",
       "11 regionSouth                1.060      (0.883, 1.273)          0.532  \n",
       "12 regionWest                 1.216      (0.992, 1.491)          0.061  \n",
       "13 povertyTRUE                0.949      (0.703, 1.281)          0.733  \n",
       "14 ever_smokerTRUE            1.334      (1.173, 1.517)          <0.001*"
      ]
     },
     "metadata": {},
     "output_type": "display_data"
    }
   ],
   "source": [
    "m1_coef = data.frame(summary(m1)$coefficients) %>%\n",
    "    mutate(\n",
    "        `Odds Ratio` = exp(Estimate),\n",
    "        `p value` = `Pr...t..`,\n",
    "    ) %>%\n",
    "    rownames_to_column(var = \"Term\") %>%\n",
    "    mutate(\n",
    "        `Odds Ratio` = round(`Odds Ratio`, 3),\n",
    "        `p value` = case_when(\n",
    "            `p value` < 0.001 ~ \"<0.001*\",\n",
    "            `p value` <= 0.05 & `p value` >= 0.001 ~ paste0(round(`p value`, 3), \"*\"),\n",
    "            `p value` > 0.05 ~ as.character(round(`p value`, 3))\n",
    "        ),\n",
    "        ci_low = exp(Estimate - 1.96 * `Std..Error`),\n",
    "        ci_high = exp(Estimate + 1.96 * `Std..Error`),\n",
    "        `95% Confidence Interval` = paste0(\"(\", round(ci_low, 3), \", \", round(ci_high, 3), \")\")\n",
    "    ) %>%\n",
    "    select(Term, `Odds Ratio`, `95% Confidence Interval`, `p value`)\n",
    "\n",
    "m1_coef\n",
    "\n",
    "write.csv(m1_coef, \"out/m1_coef.csv\", row.names = FALSE)"
   ]
  },
  {
   "cell_type": "code",
   "execution_count": null,
   "metadata": {
    "vscode": {
     "languageId": "r"
    }
   },
   "outputs": [],
   "source": []
  }
 ],
 "metadata": {
  "kernelspec": {
   "display_name": "R",
   "language": "R",
   "name": "ir"
  },
  "language_info": {
   "codemirror_mode": "r",
   "file_extension": ".r",
   "mimetype": "text/x-r-source",
   "name": "R",
   "pygments_lexer": "r",
   "version": "4.4.2"
  }
 },
 "nbformat": 4,
 "nbformat_minor": 2
}
